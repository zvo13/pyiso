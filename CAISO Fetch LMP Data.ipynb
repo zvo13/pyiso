{
 "cells": [
  {
   "cell_type": "code",
   "execution_count": 1,
   "metadata": {},
   "outputs": [],
   "source": [
    "from pyiso import client_factory\n",
    "import pandas as pd\n",
    "import datetime\n",
    "import seaborn as sns"
   ]
  },
  {
   "cell_type": "code",
   "execution_count": 2,
   "metadata": {},
   "outputs": [],
   "source": [
    "caiso = client_factory('CAISO',timeout_seconds=480)"
   ]
  },
  {
   "cell_type": "code",
   "execution_count": 5,
   "metadata": {},
   "outputs": [
    {
     "data": {
      "text/plain": [
       "'20181226T00:00-0000'"
      ]
     },
     "execution_count": 5,
     "metadata": {},
     "output_type": "execute_result"
    }
   ],
   "source": [
    "t1 = datetime.datetime.strptime('2018-12-23', '%Y-%m-%d')\n",
    "t2 = datetime.datetime.strptime('2018-12-26', '%Y-%m-%d')\n",
    "t1.strftime('%Y%m%dT%H:%M-0000')\n",
    "t2.strftime('%Y%m%dT%H:%M-0000')"
   ]
  },
  {
   "cell_type": "code",
   "execution_count": 6,
   "metadata": {},
   "outputs": [],
   "source": [
    "jan1 = '2018-01-01'\n",
    "jan2 ='2018-01-31'\n",
    "\n",
    "feb1 = '2018-02-01'\n",
    "feb2 = '2018-02-28'\n",
    "\n",
    "mar1 = '2018-03-01'\n",
    "mar2 = '2018-03-31'\n",
    "\n",
    "apr1 = '2018-04-01'\n",
    "apr2 = '2018-04-30'\n",
    "\n",
    "may1 = '2018-05-01'\n",
    "may2 = '2018-05-31'\n",
    "\n",
    "jun1 = '2018-06-01'\n",
    "jun2 = '2018-06-30'\n",
    "\n",
    "jul1 = '2018-07-01'\n",
    "jul2 = '2018-07-31'\n",
    "\n",
    "aug1 = '2018-08-01'\n",
    "aug2 = '2018-08-31'\n",
    "\n",
    "sep1 = '2018-09-01'\n",
    "sep2 = '2018-09-30'\n",
    "\n",
    "oct1 = '2018-10-01'\n",
    "oct2 = '2018-10-31'\n",
    "\n",
    "nov1 = '2018-11-01'\n",
    "nov2 = '2018-11-30'\n",
    "\n",
    "dec1 = '2018-12-01'\n",
    "dec2 = '2018-12-31'\n",
    "\n",
    "apr19 = '2019-04-12'\n",
    "may19 = '2019-05-12'"
   ]
  },
  {
   "cell_type": "code",
   "execution_count": 5,
   "metadata": {},
   "outputs": [],
   "source": [
    "a=caiso.get_generation(start_at=jan1,end_at=jan2)"
   ]
  },
  {
   "cell_type": "code",
   "execution_count": 6,
   "metadata": {},
   "outputs": [
    {
     "data": {
      "text/html": [
       "<div>\n",
       "<style scoped>\n",
       "    .dataframe tbody tr th:only-of-type {\n",
       "        vertical-align: middle;\n",
       "    }\n",
       "\n",
       "    .dataframe tbody tr th {\n",
       "        vertical-align: top;\n",
       "    }\n",
       "\n",
       "    .dataframe thead th {\n",
       "        text-align: right;\n",
       "    }\n",
       "</style>\n",
       "<table border=\"1\" class=\"dataframe\">\n",
       "  <thead>\n",
       "    <tr style=\"text-align: right;\">\n",
       "      <th></th>\n",
       "      <th>ba_name</th>\n",
       "      <th>freq</th>\n",
       "      <th>fuel_name</th>\n",
       "      <th>gen_MW</th>\n",
       "      <th>market</th>\n",
       "      <th>timestamp</th>\n",
       "    </tr>\n",
       "  </thead>\n",
       "  <tbody>\n",
       "    <tr>\n",
       "      <th>2155</th>\n",
       "      <td>CAISO</td>\n",
       "      <td>1hr</td>\n",
       "      <td>other</td>\n",
       "      <td>16606.62</td>\n",
       "      <td>DAHR</td>\n",
       "      <td>2018-01-31 03:00:00+00:00</td>\n",
       "    </tr>\n",
       "    <tr>\n",
       "      <th>2156</th>\n",
       "      <td>CAISO</td>\n",
       "      <td>1hr</td>\n",
       "      <td>other</td>\n",
       "      <td>15844.21</td>\n",
       "      <td>DAHR</td>\n",
       "      <td>2018-01-31 04:00:00+00:00</td>\n",
       "    </tr>\n",
       "    <tr>\n",
       "      <th>2157</th>\n",
       "      <td>CAISO</td>\n",
       "      <td>1hr</td>\n",
       "      <td>other</td>\n",
       "      <td>14607.83</td>\n",
       "      <td>DAHR</td>\n",
       "      <td>2018-01-31 05:00:00+00:00</td>\n",
       "    </tr>\n",
       "    <tr>\n",
       "      <th>2158</th>\n",
       "      <td>CAISO</td>\n",
       "      <td>1hr</td>\n",
       "      <td>other</td>\n",
       "      <td>12820.12</td>\n",
       "      <td>DAHR</td>\n",
       "      <td>2018-01-31 06:00:00+00:00</td>\n",
       "    </tr>\n",
       "    <tr>\n",
       "      <th>2159</th>\n",
       "      <td>CAISO</td>\n",
       "      <td>1hr</td>\n",
       "      <td>other</td>\n",
       "      <td>10826.02</td>\n",
       "      <td>DAHR</td>\n",
       "      <td>2018-01-31 07:00:00+00:00</td>\n",
       "    </tr>\n",
       "  </tbody>\n",
       "</table>\n",
       "</div>"
      ],
      "text/plain": [
       "     ba_name freq fuel_name    gen_MW market                 timestamp\n",
       "2155   CAISO  1hr     other  16606.62   DAHR 2018-01-31 03:00:00+00:00\n",
       "2156   CAISO  1hr     other  15844.21   DAHR 2018-01-31 04:00:00+00:00\n",
       "2157   CAISO  1hr     other  14607.83   DAHR 2018-01-31 05:00:00+00:00\n",
       "2158   CAISO  1hr     other  12820.12   DAHR 2018-01-31 06:00:00+00:00\n",
       "2159   CAISO  1hr     other  10826.02   DAHR 2018-01-31 07:00:00+00:00"
      ]
     },
     "execution_count": 6,
     "metadata": {},
     "output_type": "execute_result"
    }
   ],
   "source": [
    "a=pd.DataFrame(a)\n",
    "a.tail()"
   ]
  },
  {
   "cell_type": "code",
   "execution_count": 8,
   "metadata": {},
   "outputs": [],
   "source": [
    "generation = caiso.get_generation(yesterday=True)"
   ]
  },
  {
   "cell_type": "code",
   "execution_count": 6,
   "metadata": {},
   "outputs": [],
   "source": [
    "jan2018 = caiso.get_generation(start_at=jan1, end_at=jan2)"
   ]
  },
  {
   "cell_type": "code",
   "execution_count": 7,
   "metadata": {},
   "outputs": [],
   "source": [
    "feb2018 = caiso.get_generation(start_at=feb1, end_at=feb2)"
   ]
  },
  {
   "cell_type": "code",
   "execution_count": 8,
   "metadata": {},
   "outputs": [],
   "source": [
    "mar2018 = caiso.get_generation(start_at=mar1, end_at=mar2)"
   ]
  },
  {
   "cell_type": "code",
   "execution_count": 9,
   "metadata": {},
   "outputs": [],
   "source": [
    "apr2018 = caiso.get_generation(start_at=apr1, end_at=apr2)"
   ]
  },
  {
   "cell_type": "code",
   "execution_count": 10,
   "metadata": {},
   "outputs": [],
   "source": [
    "may2018 = caiso.get_generation(start_at=may1, end_at=may2)"
   ]
  },
  {
   "cell_type": "code",
   "execution_count": 11,
   "metadata": {},
   "outputs": [],
   "source": [
    "jun2018 = caiso.get_generation(start_at=jun1, end_at=jun2)"
   ]
  },
  {
   "cell_type": "code",
   "execution_count": 12,
   "metadata": {},
   "outputs": [],
   "source": [
    "jul2018 = caiso.get_generation(start_at=jul1, end_at=jul2)"
   ]
  },
  {
   "cell_type": "code",
   "execution_count": 13,
   "metadata": {},
   "outputs": [],
   "source": [
    "aug2018 = caiso.get_generation(start_at=aug1, end_at=aug2)"
   ]
  },
  {
   "cell_type": "code",
   "execution_count": 14,
   "metadata": {},
   "outputs": [],
   "source": [
    "sep2018 = caiso.get_generation(start_at=sep1, end_at=sep2)"
   ]
  },
  {
   "cell_type": "code",
   "execution_count": 15,
   "metadata": {},
   "outputs": [],
   "source": [
    "oct2018 = caiso.get_generation(start_at=oct1, end_at=oct2)"
   ]
  },
  {
   "cell_type": "code",
   "execution_count": 16,
   "metadata": {},
   "outputs": [],
   "source": [
    "nov2018 = caiso.get_generation(start_at=nov1, end_at=nov2)"
   ]
  },
  {
   "cell_type": "code",
   "execution_count": 17,
   "metadata": {},
   "outputs": [],
   "source": [
    "dec2018 = caiso.get_generation(start_at=dec1, end_at=dec2)"
   ]
  },
  {
   "cell_type": "code",
   "execution_count": 18,
   "metadata": {},
   "outputs": [],
   "source": [
    "jan18 = pd.DataFrame(jan2018)\n",
    "feb18=pd.DataFrame(feb2018)\n",
    "mar18=pd.DataFrame(mar2018)\n",
    "apr18=pd.DataFrame(apr2018)\n",
    "may18=pd.DataFrame(may2018)\n",
    "jun18=pd.DataFrame(jun2018)\n",
    "jul18=pd.DataFrame(jul2018)\n",
    "aug18=pd.DataFrame(aug2018)\n",
    "sep18=pd.DataFrame(sep2018)\n",
    "oct18=pd.DataFrame(oct2018)\n",
    "nov18=pd.DataFrame(nov2018)\n",
    "dec18=pd.DataFrame(dec2018)"
   ]
  },
  {
   "cell_type": "code",
   "execution_count": 19,
   "metadata": {},
   "outputs": [],
   "source": [
    "frames=[jan18,feb18,mar18,apr18,may18,jun18,jul18,aug18,sep18,oct18,nov18,dec18]"
   ]
  },
  {
   "cell_type": "code",
   "execution_count": 20,
   "metadata": {},
   "outputs": [
    {
     "data": {
      "text/html": [
       "<div>\n",
       "<style>\n",
       "    .dataframe thead tr:only-child th {\n",
       "        text-align: right;\n",
       "    }\n",
       "\n",
       "    .dataframe thead th {\n",
       "        text-align: left;\n",
       "    }\n",
       "\n",
       "    .dataframe tbody tr th {\n",
       "        vertical-align: top;\n",
       "    }\n",
       "</style>\n",
       "<table border=\"1\" class=\"dataframe\">\n",
       "  <thead>\n",
       "    <tr style=\"text-align: right;\">\n",
       "      <th></th>\n",
       "      <th></th>\n",
       "      <th>ba_name</th>\n",
       "      <th>freq</th>\n",
       "      <th>fuel_name</th>\n",
       "      <th>gen_MW</th>\n",
       "      <th>market</th>\n",
       "      <th>timestamp</th>\n",
       "    </tr>\n",
       "  </thead>\n",
       "  <tbody>\n",
       "    <tr>\n",
       "      <th rowspan=\"5\" valign=\"top\">dec</th>\n",
       "      <th>2155</th>\n",
       "      <td>CAISO</td>\n",
       "      <td>1hr</td>\n",
       "      <td>other</td>\n",
       "      <td>14377.77</td>\n",
       "      <td>DAHR</td>\n",
       "      <td>2018-12-31 03:00:00+00:00</td>\n",
       "    </tr>\n",
       "    <tr>\n",
       "      <th>2156</th>\n",
       "      <td>CAISO</td>\n",
       "      <td>1hr</td>\n",
       "      <td>other</td>\n",
       "      <td>14187.97</td>\n",
       "      <td>DAHR</td>\n",
       "      <td>2018-12-31 04:00:00+00:00</td>\n",
       "    </tr>\n",
       "    <tr>\n",
       "      <th>2157</th>\n",
       "      <td>CAISO</td>\n",
       "      <td>1hr</td>\n",
       "      <td>other</td>\n",
       "      <td>13813.81</td>\n",
       "      <td>DAHR</td>\n",
       "      <td>2018-12-31 05:00:00+00:00</td>\n",
       "    </tr>\n",
       "    <tr>\n",
       "      <th>2158</th>\n",
       "      <td>CAISO</td>\n",
       "      <td>1hr</td>\n",
       "      <td>other</td>\n",
       "      <td>13157.63</td>\n",
       "      <td>DAHR</td>\n",
       "      <td>2018-12-31 06:00:00+00:00</td>\n",
       "    </tr>\n",
       "    <tr>\n",
       "      <th>2159</th>\n",
       "      <td>CAISO</td>\n",
       "      <td>1hr</td>\n",
       "      <td>other</td>\n",
       "      <td>12236.33</td>\n",
       "      <td>DAHR</td>\n",
       "      <td>2018-12-31 07:00:00+00:00</td>\n",
       "    </tr>\n",
       "  </tbody>\n",
       "</table>\n",
       "</div>"
      ],
      "text/plain": [
       "         ba_name freq fuel_name    gen_MW market                 timestamp\n",
       "dec 2155   CAISO  1hr     other  14377.77   DAHR 2018-12-31 03:00:00+00:00\n",
       "    2156   CAISO  1hr     other  14187.97   DAHR 2018-12-31 04:00:00+00:00\n",
       "    2157   CAISO  1hr     other  13813.81   DAHR 2018-12-31 05:00:00+00:00\n",
       "    2158   CAISO  1hr     other  13157.63   DAHR 2018-12-31 06:00:00+00:00\n",
       "    2159   CAISO  1hr     other  12236.33   DAHR 2018-12-31 07:00:00+00:00"
      ]
     },
     "execution_count": 20,
     "metadata": {},
     "output_type": "execute_result"
    }
   ],
   "source": [
    "gen2018 = pd.concat(frames, keys=['jan','feb','mar','apr','may','jun','jul','aug','sep','oct','nov','dec'])\n",
    "gen2018.tail()"
   ]
  },
  {
   "cell_type": "code",
   "execution_count": 21,
   "metadata": {},
   "outputs": [
    {
     "data": {
      "text/plain": [
       "<matplotlib.axes._subplots.AxesSubplot at 0x33597ef0>"
      ]
     },
     "execution_count": 21,
     "metadata": {},
     "output_type": "execute_result"
    },
    {
     "data": {
      "image/png": "[encoded data removed]",
      "text/plain": [
       "<Figure size 432x288 with 1 Axes>"
      ]
     },
     "metadata": {
      "needs_background": "light"
     },
     "output_type": "display_data"
    }
   ],
   "source": [
    "sns.lineplot(x='timestamp',y='gen_MW',hue='fuel_name',data=gen2018)"
   ]
  },
  {
   "cell_type": "code",
   "execution_count": 7,
   "metadata": {},
   "outputs": [
    {
     "name": "stderr",
     "output_type": "stream",
     "text": [
      "c:\\users\\zvoss\\appdata\\local\\conda\\conda\\envs\\pyiso\\lib\\site-packages\\pyiso-0.3.16-py2.7.egg\\pyiso\\caiso.py:299: FutureWarning: from_csv is deprecated. Please use read_csv(...) instead. Note that some of the default arguments are different, so please refer to the documentation for from_csv when changing your function calls\n",
      "  df = pd.DataFrame.from_csv(str_data, sep=\",\")\n"
     ]
    }
   ],
   "source": [
    "janlmp=caiso.get_lmp_as_dataframe(start_at=jan1, end_at=jan2,node_id='CANYONP1_7_GN001',lmp_only=True)"
   ]
  },
  {
   "cell_type": "code",
   "execution_count": 8,
   "metadata": {},
   "outputs": [],
   "source": [
    "feblmp=caiso.get_lmp_as_dataframe(start_at=feb1, end_at=feb2,node_id='CANYONP1_7_GN001',lmp_only=True)"
   ]
  },
  {
   "cell_type": "code",
   "execution_count": 9,
   "metadata": {},
   "outputs": [],
   "source": [
    "marlmp=caiso.get_lmp_as_dataframe(start_at=mar1, end_at=mar2,node_id='CANYONP1_7_GN001',lmp_only=True)"
   ]
  },
  {
   "cell_type": "code",
   "execution_count": 10,
   "metadata": {},
   "outputs": [],
   "source": [
    "aprlmp=caiso.get_lmp_as_dataframe(start_at=apr1, end_at=apr2,node_id='CANYONP1_7_GN001',lmp_only=True)"
   ]
  },
  {
   "cell_type": "code",
   "execution_count": 11,
   "metadata": {},
   "outputs": [],
   "source": [
    "maylmp=caiso.get_lmp_as_dataframe(start_at=may1, end_at=may2,node_id='CANYONP1_7_GN001',lmp_only=True)"
   ]
  },
  {
   "cell_type": "code",
   "execution_count": 12,
   "metadata": {},
   "outputs": [],
   "source": [
    "junlmp=caiso.get_lmp_as_dataframe(start_at=jun1, end_at=jun2,node_id='CANYONP1_7_GN001',lmp_only=True)"
   ]
  },
  {
   "cell_type": "code",
   "execution_count": 13,
   "metadata": {},
   "outputs": [],
   "source": [
    "jullmp=caiso.get_lmp_as_dataframe(start_at=jul1, end_at=jul2,node_id='CANYONP1_7_GN001',lmp_only=True)"
   ]
  },
  {
   "cell_type": "code",
   "execution_count": 14,
   "metadata": {},
   "outputs": [],
   "source": [
    "auglmp=caiso.get_lmp_as_dataframe(start_at=aug1, end_at=aug2,node_id='CANYONP1_7_GN001',lmp_only=True)"
   ]
  },
  {
   "cell_type": "code",
   "execution_count": 15,
   "metadata": {},
   "outputs": [],
   "source": [
    "seplmp=caiso.get_lmp_as_dataframe(start_at=sep1, end_at=sep2,node_id='CANYONP1_7_GN001',lmp_only=True)"
   ]
  },
  {
   "cell_type": "code",
   "execution_count": 16,
   "metadata": {},
   "outputs": [],
   "source": [
    "octlmp=caiso.get_lmp_as_dataframe(start_at=oct1, end_at=oct2,node_id='CANYONP1_7_GN001',lmp_only=True)"
   ]
  },
  {
   "cell_type": "code",
   "execution_count": 17,
   "metadata": {},
   "outputs": [],
   "source": [
    "novlmp=caiso.get_lmp_as_dataframe(start_at=nov1, end_at=nov2,node_id='CANYONP1_7_GN001',lmp_only=True)"
   ]
  },
  {
   "cell_type": "code",
   "execution_count": 18,
   "metadata": {},
   "outputs": [],
   "source": [
    "declmp=caiso.get_lmp_as_dataframe(start_at=dec1, end_at=dec2,node_id='CANYONP1_7_GN001',lmp_only=True)"
   ]
  },
  {
   "cell_type": "code",
   "execution_count": 19,
   "metadata": {},
   "outputs": [],
   "source": [
    "lmpjan=pd.DataFrame(janlmp)\n",
    "lmpfeb=pd.DataFrame(feblmp)\n",
    "lmpmar=pd.DataFrame(marlmp)\n",
    "lmpapr=pd.DataFrame(aprlmp)\n",
    "lmpmay=pd.DataFrame(maylmp)\n",
    "lmpjun=pd.DataFrame(junlmp)\n",
    "lmpjul=pd.DataFrame(jullmp)\n",
    "lmpaug=pd.DataFrame(auglmp)\n",
    "lmpsep=pd.DataFrame(seplmp)\n",
    "lmpoct=pd.DataFrame(octlmp)\n",
    "lmpnov=pd.DataFrame(novlmp)\n",
    "lmpdec=pd.DataFrame(declmp)"
   ]
  },
  {
   "cell_type": "code",
   "execution_count": 20,
   "metadata": {},
   "outputs": [],
   "source": [
    "frames1=[lmpjan,lmpfeb,lmpmar,lmpapr,lmpmay,lmpjun,lmpjul,lmpaug,lmpsep,lmpoct,lmpnov,lmpdec]"
   ]
  },
  {
   "cell_type": "code",
   "execution_count": 22,
   "metadata": {},
   "outputs": [
    {
     "data": {
      "text/html": [
       "<div>\n",
       "<style scoped>\n",
       "    .dataframe tbody tr th:only-of-type {\n",
       "        vertical-align: middle;\n",
       "    }\n",
       "\n",
       "    .dataframe tbody tr th {\n",
       "        vertical-align: top;\n",
       "    }\n",
       "\n",
       "    .dataframe thead th {\n",
       "        text-align: right;\n",
       "    }\n",
       "</style>\n",
       "<table border=\"1\" class=\"dataframe\">\n",
       "  <thead>\n",
       "    <tr style=\"text-align: right;\">\n",
       "      <th></th>\n",
       "      <th></th>\n",
       "      <th>INTERVALENDTIME_GMT</th>\n",
       "      <th>OPR_DT</th>\n",
       "      <th>OPR_HR</th>\n",
       "      <th>NODE_ID_XML</th>\n",
       "      <th>NODE_ID</th>\n",
       "      <th>NODE</th>\n",
       "      <th>MARKET_RUN_ID</th>\n",
       "      <th>LMP_TYPE</th>\n",
       "      <th>XML_DATA_ITEM</th>\n",
       "      <th>PNODE_RESMRID</th>\n",
       "      <th>GRP_TYPE</th>\n",
       "      <th>POS</th>\n",
       "      <th>MW</th>\n",
       "      <th>OPR_INTERVAL</th>\n",
       "      <th>GROUP</th>\n",
       "    </tr>\n",
       "    <tr>\n",
       "      <th></th>\n",
       "      <th>INTERVALSTARTTIME_GMT</th>\n",
       "      <th></th>\n",
       "      <th></th>\n",
       "      <th></th>\n",
       "      <th></th>\n",
       "      <th></th>\n",
       "      <th></th>\n",
       "      <th></th>\n",
       "      <th></th>\n",
       "      <th></th>\n",
       "      <th></th>\n",
       "      <th></th>\n",
       "      <th></th>\n",
       "      <th></th>\n",
       "      <th></th>\n",
       "      <th></th>\n",
       "    </tr>\n",
       "  </thead>\n",
       "  <tbody>\n",
       "    <tr>\n",
       "      <th rowspan=\"5\" valign=\"top\">dec</th>\n",
       "      <th>2018-12-31 07:35:00+00:00</th>\n",
       "      <td>2018-12-31T07:40:00-00:00</td>\n",
       "      <td>2018-12-30</td>\n",
       "      <td>24</td>\n",
       "      <td>CANYONP1_7_GN001</td>\n",
       "      <td>CANYONP1_7_GN001</td>\n",
       "      <td>CANYONP1_7_GN001</td>\n",
       "      <td>RTM</td>\n",
       "      <td>LMP</td>\n",
       "      <td>LMP_PRC</td>\n",
       "      <td>CANYONP1_7_GN001</td>\n",
       "      <td>ALL</td>\n",
       "      <td>1</td>\n",
       "      <td>41.66712</td>\n",
       "      <td>8</td>\n",
       "      <td>120</td>\n",
       "    </tr>\n",
       "    <tr>\n",
       "      <th>2018-12-31 07:40:00+00:00</th>\n",
       "      <td>2018-12-31T07:45:00-00:00</td>\n",
       "      <td>2018-12-30</td>\n",
       "      <td>24</td>\n",
       "      <td>CANYONP1_7_GN001</td>\n",
       "      <td>CANYONP1_7_GN001</td>\n",
       "      <td>CANYONP1_7_GN001</td>\n",
       "      <td>RTM</td>\n",
       "      <td>LMP</td>\n",
       "      <td>LMP_PRC</td>\n",
       "      <td>CANYONP1_7_GN001</td>\n",
       "      <td>ALL</td>\n",
       "      <td>1</td>\n",
       "      <td>40.18936</td>\n",
       "      <td>9</td>\n",
       "      <td>120</td>\n",
       "    </tr>\n",
       "    <tr>\n",
       "      <th>2018-12-31 07:45:00+00:00</th>\n",
       "      <td>2018-12-31T07:50:00-00:00</td>\n",
       "      <td>2018-12-30</td>\n",
       "      <td>24</td>\n",
       "      <td>CANYONP1_7_GN001</td>\n",
       "      <td>CANYONP1_7_GN001</td>\n",
       "      <td>CANYONP1_7_GN001</td>\n",
       "      <td>RTM</td>\n",
       "      <td>LMP</td>\n",
       "      <td>LMP_PRC</td>\n",
       "      <td>CANYONP1_7_GN001</td>\n",
       "      <td>ALL</td>\n",
       "      <td>1</td>\n",
       "      <td>39.97306</td>\n",
       "      <td>10</td>\n",
       "      <td>120</td>\n",
       "    </tr>\n",
       "    <tr>\n",
       "      <th>2018-12-31 07:50:00+00:00</th>\n",
       "      <td>2018-12-31T07:55:00-00:00</td>\n",
       "      <td>2018-12-30</td>\n",
       "      <td>24</td>\n",
       "      <td>CANYONP1_7_GN001</td>\n",
       "      <td>CANYONP1_7_GN001</td>\n",
       "      <td>CANYONP1_7_GN001</td>\n",
       "      <td>RTM</td>\n",
       "      <td>LMP</td>\n",
       "      <td>LMP_PRC</td>\n",
       "      <td>CANYONP1_7_GN001</td>\n",
       "      <td>ALL</td>\n",
       "      <td>1</td>\n",
       "      <td>41.85792</td>\n",
       "      <td>11</td>\n",
       "      <td>120</td>\n",
       "    </tr>\n",
       "    <tr>\n",
       "      <th>2018-12-31 07:55:00+00:00</th>\n",
       "      <td>2018-12-31T08:00:00-00:00</td>\n",
       "      <td>2018-12-30</td>\n",
       "      <td>24</td>\n",
       "      <td>CANYONP1_7_GN001</td>\n",
       "      <td>CANYONP1_7_GN001</td>\n",
       "      <td>CANYONP1_7_GN001</td>\n",
       "      <td>RTM</td>\n",
       "      <td>LMP</td>\n",
       "      <td>LMP_PRC</td>\n",
       "      <td>CANYONP1_7_GN001</td>\n",
       "      <td>ALL</td>\n",
       "      <td>1</td>\n",
       "      <td>40.70257</td>\n",
       "      <td>12</td>\n",
       "      <td>120</td>\n",
       "    </tr>\n",
       "  </tbody>\n",
       "</table>\n",
       "</div>"
      ],
      "text/plain": [
       "                                     INTERVALENDTIME_GMT      OPR_DT  OPR_HR  \\\n",
       "    INTERVALSTARTTIME_GMT                                                      \n",
       "dec 2018-12-31 07:35:00+00:00  2018-12-31T07:40:00-00:00  2018-12-30      24   \n",
       "    2018-12-31 07:40:00+00:00  2018-12-31T07:45:00-00:00  2018-12-30      24   \n",
       "    2018-12-31 07:45:00+00:00  2018-12-31T07:50:00-00:00  2018-12-30      24   \n",
       "    2018-12-31 07:50:00+00:00  2018-12-31T07:55:00-00:00  2018-12-30      24   \n",
       "    2018-12-31 07:55:00+00:00  2018-12-31T08:00:00-00:00  2018-12-30      24   \n",
       "\n",
       "                                    NODE_ID_XML           NODE_ID  \\\n",
       "    INTERVALSTARTTIME_GMT                                           \n",
       "dec 2018-12-31 07:35:00+00:00  CANYONP1_7_GN001  CANYONP1_7_GN001   \n",
       "    2018-12-31 07:40:00+00:00  CANYONP1_7_GN001  CANYONP1_7_GN001   \n",
       "    2018-12-31 07:45:00+00:00  CANYONP1_7_GN001  CANYONP1_7_GN001   \n",
       "    2018-12-31 07:50:00+00:00  CANYONP1_7_GN001  CANYONP1_7_GN001   \n",
       "    2018-12-31 07:55:00+00:00  CANYONP1_7_GN001  CANYONP1_7_GN001   \n",
       "\n",
       "                                           NODE MARKET_RUN_ID LMP_TYPE  \\\n",
       "    INTERVALSTARTTIME_GMT                                                \n",
       "dec 2018-12-31 07:35:00+00:00  CANYONP1_7_GN001           RTM      LMP   \n",
       "    2018-12-31 07:40:00+00:00  CANYONP1_7_GN001           RTM      LMP   \n",
       "    2018-12-31 07:45:00+00:00  CANYONP1_7_GN001           RTM      LMP   \n",
       "    2018-12-31 07:50:00+00:00  CANYONP1_7_GN001           RTM      LMP   \n",
       "    2018-12-31 07:55:00+00:00  CANYONP1_7_GN001           RTM      LMP   \n",
       "\n",
       "                              XML_DATA_ITEM     PNODE_RESMRID GRP_TYPE  POS  \\\n",
       "    INTERVALSTARTTIME_GMT                                                     \n",
       "dec 2018-12-31 07:35:00+00:00       LMP_PRC  CANYONP1_7_GN001      ALL    1   \n",
       "    2018-12-31 07:40:00+00:00       LMP_PRC  CANYONP1_7_GN001      ALL    1   \n",
       "    2018-12-31 07:45:00+00:00       LMP_PRC  CANYONP1_7_GN001      ALL    1   \n",
       "    2018-12-31 07:50:00+00:00       LMP_PRC  CANYONP1_7_GN001      ALL    1   \n",
       "    2018-12-31 07:55:00+00:00       LMP_PRC  CANYONP1_7_GN001      ALL    1   \n",
       "\n",
       "                                     MW  OPR_INTERVAL  GROUP  \n",
       "    INTERVALSTARTTIME_GMT                                     \n",
       "dec 2018-12-31 07:35:00+00:00  41.66712             8    120  \n",
       "    2018-12-31 07:40:00+00:00  40.18936             9    120  \n",
       "    2018-12-31 07:45:00+00:00  39.97306            10    120  \n",
       "    2018-12-31 07:50:00+00:00  41.85792            11    120  \n",
       "    2018-12-31 07:55:00+00:00  40.70257            12    120  "
      ]
     },
     "execution_count": 22,
     "metadata": {},
     "output_type": "execute_result"
    }
   ],
   "source": [
    "lmp2018 = pd.concat(frames1, keys=['jan','feb','mar','apr','may','jun','jul','aug','sep','oct','nov','dec'])\n",
    "lmp2018.tail()"
   ]
  },
  {
   "cell_type": "code",
   "execution_count": 24,
   "metadata": {},
   "outputs": [],
   "source": [
    "lmp2018.to_csv('lmp_2018_canyon.csv')"
   ]
  },
  {
   "cell_type": "code",
   "execution_count": 59,
   "metadata": {},
   "outputs": [],
   "source": [
    "lmp=lmp2018[['NODE','MW']]\n",
    "lmp=lmp.reset_index()\n",
    "lmp['weekday']=lmp['INTERVALSTARTTIME_GMT'].dt.dayofweek"
   ]
  },
  {
   "cell_type": "code",
   "execution_count": 69,
   "metadata": {},
   "outputs": [
    {
     "data": {
      "text/plain": [
       "<matplotlib.axes._subplots.AxesSubplot at 0x42964160>"
      ]
     },
     "execution_count": 69,
     "metadata": {},
     "output_type": "execute_result"
    },
    {
     "data": {
      "image/png": "[encoded data removed]",
      "text/plain": [
       "<Figure size 432x288 with 1 Axes>"
      ]
     },
     "metadata": {
      "needs_background": "light"
     },
     "output_type": "display_data"
    }
   ],
   "source": [
    "sns.lineplot(x='weekday',y='MW',data=lmp)"
   ]
  },
  {
   "cell_type": "code",
   "execution_count": 7,
   "metadata": {},
   "outputs": [
    {
     "data": {
      "text/html": [
       "<div>\n",
       "<style scoped>\n",
       "    .dataframe tbody tr th:only-of-type {\n",
       "        vertical-align: middle;\n",
       "    }\n",
       "\n",
       "    .dataframe tbody tr th {\n",
       "        vertical-align: top;\n",
       "    }\n",
       "\n",
       "    .dataframe thead th {\n",
       "        text-align: right;\n",
       "    }\n",
       "</style>\n",
       "<table border=\"1\" class=\"dataframe\">\n",
       "  <thead>\n",
       "    <tr style=\"text-align: right;\">\n",
       "      <th></th>\n",
       "      <th>area</th>\n",
       "      <th>latitude</th>\n",
       "      <th>longitude</th>\n",
       "      <th>node_id</th>\n",
       "    </tr>\n",
       "  </thead>\n",
       "  <tbody>\n",
       "    <tr>\n",
       "      <th>6374</th>\n",
       "      <td>CA</td>\n",
       "      <td>37.470000</td>\n",
       "      <td>-121.809943</td>\n",
       "      <td>ZANKER_1_N001</td>\n",
       "    </tr>\n",
       "    <tr>\n",
       "      <th>6375</th>\n",
       "      <td>CA</td>\n",
       "      <td>37.470000</td>\n",
       "      <td>-121.810057</td>\n",
       "      <td>ZANKER_1_N003</td>\n",
       "    </tr>\n",
       "    <tr>\n",
       "      <th>6376</th>\n",
       "      <td>PSE</td>\n",
       "      <td>47.387222</td>\n",
       "      <td>-122.310833</td>\n",
       "      <td>ZEN_LNODEXF2</td>\n",
       "    </tr>\n",
       "    <tr>\n",
       "      <th>6377</th>\n",
       "      <td>IPCO</td>\n",
       "      <td>43.596436</td>\n",
       "      <td>-116.538382</td>\n",
       "      <td>ZLOG_LNODE132</td>\n",
       "    </tr>\n",
       "    <tr>\n",
       "      <th>6378</th>\n",
       "      <td>CA</td>\n",
       "      <td>37.740427</td>\n",
       "      <td>-121.668580</td>\n",
       "      <td>ZONDWD_6_B1</td>\n",
       "    </tr>\n",
       "  </tbody>\n",
       "</table>\n",
       "</div>"
      ],
      "text/plain": [
       "      area   latitude   longitude        node_id\n",
       "6374    CA  37.470000 -121.809943  ZANKER_1_N001\n",
       "6375    CA  37.470000 -121.810057  ZANKER_1_N003\n",
       "6376   PSE  47.387222 -122.310833   ZEN_LNODEXF2\n",
       "6377  IPCO  43.596436 -116.538382  ZLOG_LNODE132\n",
       "6378    CA  37.740427 -121.668580    ZONDWD_6_B1"
      ]
     },
     "execution_count": 7,
     "metadata": {},
     "output_type": "execute_result"
    }
   ],
   "source": [
    "loc=caiso.get_lmp_loc()\n",
    "loc=pd.DataFrame(loc)\n",
    "loc.tail()"
   ]
  },
  {
   "cell_type": "code",
   "execution_count": 16,
   "metadata": {},
   "outputs": [],
   "source": [
    "b1=caiso.get_lmp_as_dataframe(start_at='2019-03-15', end_at='2019-03-17',node_id='CANYONP1_7_GN001',lmp_only=True)"
   ]
  },
  {
   "cell_type": "code",
   "execution_count": 17,
   "metadata": {},
   "outputs": [
    {
     "data": {
      "text/plain": [
       "<matplotlib.axes._subplots.AxesSubplot at 0x1aad85c0>"
      ]
     },
     "execution_count": 17,
     "metadata": {},
     "output_type": "execute_result"
    },
    {
     "data": {
      "image/png": "[encoded data removed]",
      "text/plain": [
       "<Figure size 432x288 with 1 Axes>"
      ]
     },
     "metadata": {
      "needs_background": "light"
     },
     "output_type": "display_data"
    }
   ],
   "source": [
    "sns.lineplot(data=b1,x='INTERVALENDTIME_GMT',y='MW')"
   ]
  },
  {
   "cell_type": "code",
   "execution_count": 8,
   "metadata": {},
   "outputs": [
    {
     "name": "stderr",
     "output_type": "stream",
     "text": [
      "c:\\users\\zvoss\\appdata\\local\\conda\\conda\\envs\\pyiso\\lib\\site-packages\\pyiso-0.3.16-py2.7.egg\\pyiso\\caiso.py:299: FutureWarning: from_csv is deprecated. Please use read_csv(...) instead. Note that some of the default arguments are different, so please refer to the documentation for from_csv when changing your function calls\n",
      "  df = pd.DataFrame.from_csv(str_data, sep=\",\")\n"
     ]
    }
   ],
   "source": [
    "sp15 = caiso.get_lmp_as_dataframe(start_at=apr19, end_at=may19,node_id='TH_SP15_GEN-APND',lmp_only=True)"
   ]
  },
  {
   "cell_type": "code",
   "execution_count": null,
   "metadata": {},
   "outputs": [],
   "source": []
  },
  {
   "cell_type": "code",
   "execution_count": null,
   "metadata": {},
   "outputs": [],
   "source": []
  },
  {
   "cell_type": "code",
   "execution_count": null,
   "metadata": {},
   "outputs": [],
   "source": []
  }
 ],
 "metadata": {
  "kernelspec": {
   "display_name": "Python 2",
   "language": "python",
   "name": "python2"
  },
  "language_info": {
   "codemirror_mode": {
    "name": "ipython",
    "version": 2
   },
   "file_extension": ".py",
   "mimetype": "text/x-python",
   "name": "python",
   "nbconvert_exporter": "python",
   "pygments_lexer": "ipython2",
   "version": "2.7.16"
  }
 },
 "nbformat": 4,
 "nbformat_minor": 2
}
